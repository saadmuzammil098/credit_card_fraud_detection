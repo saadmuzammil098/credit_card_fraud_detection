{
 "cells": [
  {
   "cell_type": "markdown",
   "metadata": {},
   "source": [
    "# Un-Supervised Learning"
   ]
  },
  {
   "cell_type": "code",
   "execution_count": null,
   "metadata": {},
   "outputs": [],
   "source": [
    "import numpy as np\n",
    "import pandas as pd\n",
    "import matplotlib as plt\n",
    "import scipy as sci\n",
    "import seaborn as sns\n",
    "import sklearn as skl"
   ]
  },
  {
   "cell_type": "code",
   "execution_count": null,
   "metadata": {},
   "outputs": [],
   "source": [
    "data = pd.read_csv(\"creditcard.csv\")"
   ]
  },
  {
   "cell_type": "code",
   "execution_count": null,
   "metadata": {},
   "outputs": [],
   "source": [
    "data.describe()"
   ]
  },
  {
   "cell_type": "code",
   "execution_count": null,
   "metadata": {},
   "outputs": [],
   "source": [
    "data.columns"
   ]
  },
  {
   "cell_type": "code",
   "execution_count": null,
   "metadata": {},
   "outputs": [],
   "source": [
    "# 0 means normal transaction\n",
    "# 1 means fraudulent transaction\n",
    "data = data.sample(frac = 0.1, random_state = 1)\n",
    "data.shape"
   ]
  },
  {
   "cell_type": "code",
   "execution_count": null,
   "metadata": {},
   "outputs": [],
   "source": [
    "data.hist(figsize = (20, 20))"
   ]
  },
  {
   "cell_type": "code",
   "execution_count": null,
   "metadata": {},
   "outputs": [],
   "source": [
    "fraud = data[data[\"Class\"] == 1]\n",
    "valid = data[data[\"Class\"] == 0]\n",
    "\n",
    "outlier_fraction = len(fraud)/float(len(valid))\n",
    "print(outlier_fraction)\n",
    "print(len(fraud))\n",
    "print(len(valid))"
   ]
  },
  {
   "cell_type": "code",
   "execution_count": 13,
   "metadata": {},
   "outputs": [
    {
     "data": {
      "text/plain": [
       "Class     1.000000\n",
       "V11       0.140513\n",
       "V4        0.122631\n",
       "V2        0.069598\n",
       "V21       0.037570\n",
       "V19       0.025784\n",
       "V8        0.024896\n",
       "V27       0.024421\n",
       "V28       0.014344\n",
       "Amount    0.012804\n",
       "V25       0.011958\n",
       "V20       0.005640\n",
       "V22      -0.001683\n",
       "V26      -0.001884\n",
       "V13      -0.003380\n",
       "V24      -0.003727\n",
       "V15      -0.003760\n",
       "Time     -0.005087\n",
       "V23      -0.005856\n",
       "V6       -0.035085\n",
       "V5       -0.073519\n",
       "V1       -0.079820\n",
       "V9       -0.079962\n",
       "V18      -0.098311\n",
       "V7       -0.134247\n",
       "V3       -0.160051\n",
       "V16      -0.175216\n",
       "V10      -0.191189\n",
       "V12      -0.244444\n",
       "V17      -0.293225\n",
       "V14      -0.296297\n",
       "Name: Class, dtype: float64"
      ]
     },
     "execution_count": 13,
     "metadata": {},
     "output_type": "execute_result"
    }
   ],
   "source": [
    "corr_matrix = data.corr()\n",
    "corr_matrix[\"Class\"].sort_values(ascending = False)"
   ]
  },
  {
   "cell_type": "code",
   "execution_count": 14,
   "metadata": {},
   "outputs": [
    {
     "name": "stdout",
     "output_type": "stream",
     "text": [
      "(28481, 30)\n",
      "(28481,)\n"
     ]
    }
   ],
   "source": [
    "columns = data.columns.tolist()\n",
    "#filter the columns to remove data we don't want\n",
    "columns = [c for c in columns if c not in [\"Class\"]]\n",
    "#store the variable we'll be predicting\n",
    "target = \"Class\"\n",
    "X = data[columns]\n",
    "y = data[target] \n",
    "\n",
    "print(X.shape)\n",
    "print(y.shape)"
   ]
  },
  {
   "cell_type": "code",
   "execution_count": 21,
   "metadata": {},
   "outputs": [],
   "source": [
    "from sklearn.metrics import classification_report, accuracy_score\n",
    "from sklearn.ensemble import IsolationForest\n",
    "from sklearn.neighbors import LocalOutlierFactor  #localoutlierfactor is an un-supervised method"
   ]
  },
  {
   "cell_type": "code",
   "execution_count": 25,
   "metadata": {},
   "outputs": [],
   "source": [
    "state = 1\n",
    "classifiers = {\n",
    "    \"Isolation Forest\" : IsolationForest(max_samples = len(X),contamination = outlier_fraction, \n",
    "                                        random_state = state),\n",
    "    \"local outlier factor\" : LocalOutlierFactor(n_neighbors = 20, contamination = outlier_fraction,\n",
    "                                               )\n",
    "}"
   ]
  },
  {
   "cell_type": "code",
   "execution_count": 31,
   "metadata": {},
   "outputs": [
    {
     "name": "stdout",
     "output_type": "stream",
     "text": [
      "Isolation Forest 71\n",
      "0.99750711000316\n",
      "              precision    recall  f1-score   support\n",
      "\n",
      "           0       1.00      1.00      1.00     28432\n",
      "           1       0.28      0.29      0.28        49\n",
      "\n",
      "    accuracy                           1.00     28481\n",
      "   macro avg       0.64      0.64      0.64     28481\n",
      "weighted avg       1.00      1.00      1.00     28481\n",
      "\n",
      "local outlier factor 97\n",
      "0.9965942207085425\n",
      "              precision    recall  f1-score   support\n",
      "\n",
      "           0       1.00      1.00      1.00     28432\n",
      "           1       0.02      0.02      0.02        49\n",
      "\n",
      "    accuracy                           1.00     28481\n",
      "   macro avg       0.51      0.51      0.51     28481\n",
      "weighted avg       1.00      1.00      1.00     28481\n",
      "\n"
     ]
    }
   ],
   "source": [
    " #fit the model\n",
    "n_outliers = len(fraud)\n",
    "for i,(clf_name, clf) in enumerate(classifiers.items()):\n",
    "    if clf_name == \"local outlier factor\":\n",
    "        y_predict = clf.fit_predict(X)\n",
    "        scores_predict = clf.negative_outlier_factor_\n",
    "        \n",
    "    else:\n",
    "        clf.fit(X)\n",
    "        scores_predict = clf.decision_function(X)\n",
    "        y_predict = clf.predict(X)\n",
    "        \n",
    "# reshape the predictions to 0 to valid, 1 to fraud\n",
    "    y_predict[y_predict == 1] = 0\n",
    "    y_predict[y_predict == -1] = 1\n",
    "    n_errors = (y_predict != y).sum()\n",
    "\n",
    "#running classification metrics\n",
    "    print(clf_name, n_errors)\n",
    "    print(accuracy_score(y, y_predict))\n",
    "    print(classification_report(y, y_predict))   #comparing \"y\" to \"y_predict\""
   ]
  },
  {
   "cell_type": "code",
   "execution_count": null,
   "metadata": {},
   "outputs": [],
   "source": []
  }
 ],
 "metadata": {
  "kernelspec": {
   "display_name": "Python 3",
   "language": "python",
   "name": "python3"
  },
  "language_info": {
   "codemirror_mode": {
    "name": "ipython",
    "version": 3
   },
   "file_extension": ".py",
   "mimetype": "text/x-python",
   "name": "python",
   "nbconvert_exporter": "python",
   "pygments_lexer": "ipython3",
   "version": "3.7.6"
  }
 },
 "nbformat": 4,
 "nbformat_minor": 4
}
